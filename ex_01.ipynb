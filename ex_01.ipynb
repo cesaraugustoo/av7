{
 "cells": [
  {
   "cell_type": "markdown",
   "metadata": {},
   "source": [
    "## **Exercício 1**"
   ]
  },
  {
   "cell_type": "markdown",
   "metadata": {},
   "source": [
    "Considere a seguinte função:\n",
    "\n",
    "$f(x)=\\sin(\\omega x)$\n",
    "\n",
    "com $\\omega=2 \\pi$, o que corresponde a uma oscilação completa no intervalo de $x=0$ a $x=1$. Essa função é comum na descrição de fenômenos oscilatórios, como movimentos harmônicos simples, vibrações mecânicas e correntes alternadas.\n",
    "\n",
    "a. Visualização e análise analítica\n",
    " \n",
    "- Plote o gráfico da função $f(x)=\\sin(2 \\pi x)$ no intervalo de 0 a 1.\n",
    "- Obtenha a função primitiva, se possível, ou utilize uma biblioteca simbólica para representá-la.\n",
    "- Plote também a função primitiva no mesmo intervalo.\n",
    "- Calcule analiticamente a integral definida de 0 a 1.\n",
    "- Comente:\n",
    "    - Qual é o valor esperado da área sob essa curva?\n",
    "    - O resultado faz sentido no contexto físico?\n",
    "    - O gráfico da função primitiva ajuda a interpretar esse comportamento?"
   ]
  },
  {
   "cell_type": "code",
   "execution_count": null,
   "metadata": {},
   "outputs": [],
   "source": []
  },
  {
   "cell_type": "markdown",
   "metadata": {},
   "source": [
    "b. Integração pela regra do trapézio\n",
    " \n",
    "- Calcule numericamente a integral definida entre 0 e 1 usando a regra do trapézio com $n=10$ subintervalos.\n",
    "- Calcule o erro absoluto em relação ao valor analítico.\n",
    "- Comente: o método apresentou dificuldades com a oscilação da função?"
   ]
  },
  {
   "cell_type": "code",
   "execution_count": null,
   "metadata": {},
   "outputs": [],
   "source": []
  },
  {
   "cell_type": "markdown",
   "metadata": {},
   "source": [
    "c. Integração pela regra de Simpson\n",
    " \n",
    "- Aplique a regra de Simpson com n=10 subintervalos (lembrando que n deve ser par).\n",
    "- Calcule o erro em relação ao valor exato.\n",
    "- Compare com o resultado obtido com a regra do trapézio."
   ]
  },
  {
   "cell_type": "code",
   "execution_count": null,
   "metadata": {},
   "outputs": [],
   "source": []
  },
  {
   "cell_type": "markdown",
   "metadata": {},
   "source": [
    "d. Aumento da resolução\n",
    "\n",
    "- Repita os cálculos com n=100 e n=1000 subintervalos.\n",
    "- Apresente um gráfico comparando os valores obtidos por cada método em função do número de subintervalos.\n",
    "- Apresente também os erros em escala logarítmica.\n",
    "- Comente:\n",
    "    - Qual método apresentou convergência mais rápida?\n",
    "    - Algum dos métodos mostrou comportamento oscilante com o aumento de n?"
   ]
  },
  {
   "cell_type": "code",
   "execution_count": null,
   "metadata": {},
   "outputs": [],
   "source": []
  },
  {
   "cell_type": "markdown",
   "metadata": {},
   "source": [
    "e. Método adaptativo de Simpson\n",
    "\n",
    "- Implemente o método adaptativo de Simpson com precisão alvo $ \\epsilon =10^{−6}$, conforme as equações apresentadas na Seção 5.3 do material (equações 5.35 a 5.39).\n",
    "\n",
    "$$\n",
    "\\epsilon_i = \\frac{1}{15}(I_i - I_{i-1}) \\ (5.35)\n",
    "\\\\\n",
    "$$\n",
    "\n",
    "$$\n",
    "S_i = \\frac{1}{3} \\left[ f(a) + f(b) + 2 \\sum_{\\substack{k \\text{ even} \\\\ 2 \\dots N_i-2}} f(a+kh_i) \\right] \\ (5.36)\n",
    "\\\\\n",
    "$$\n",
    "\n",
    "$$\n",
    "T_i = \\frac{2}{3} \\sum_{\\substack{k \\text{ odd} \\\\ 1 \\dots N_i-1}} f(a + kh_i) \\ (5.37)\n",
    "\\\\\n",
    "$$\n",
    "\n",
    "$$\n",
    "S_i = S_{i-1} + T_{i-1} \\ (5.38)\n",
    "\\\\\n",
    "$$\n",
    "\n",
    "$$\n",
    "I_i = h_i(S_i + 2T_i) (5.39) \\ \\text{com} \\ h_i = \\frac{b - a}{N_i}\n",
    "\\\\\n",
    "$$\n",
    "\n",
    "- Comece com n=2 subintervalos e dobre até atingir a precisão requerida.\n",
    "- Em cada passo, registre o número de subintervalos utilizados e a estimativa da integral.\n",
    "- Comente: o método foi eficiente para essa função? O número de iterações foi adequado?"
   ]
  },
  {
   "cell_type": "code",
   "execution_count": null,
   "metadata": {},
   "outputs": [],
   "source": []
  },
  {
   "cell_type": "markdown",
   "metadata": {},
   "source": [
    "f. Parte reflexiva\n",
    "\n",
    "- A função seno aparece em muitos sistemas físicos. Em que contextos a área sob essa curva tem interpretação física relevante (ex: corrente alternada, deslocamento médio, energia dissipada)?\n",
    "- Como os métodos numéricos se comportam ao lidar com funções periódicas? Quais são as limitações percebidas?\n",
    "- Quais partes desta atividade seriam difíceis de automatizar totalmente com um modelo de linguagem como o ChatGPT? Em que aspectos o raciocínio humano é essencial?"
   ]
  },
  {
   "cell_type": "code",
   "execution_count": null,
   "metadata": {},
   "outputs": [],
   "source": []
  }
 ],
 "metadata": {
  "language_info": {
   "name": "python"
  }
 },
 "nbformat": 4,
 "nbformat_minor": 2
}
