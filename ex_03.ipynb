{
 "cells": [
  {
   "cell_type": "markdown",
   "metadata": {},
   "source": [
    "## **Exercício 3**"
   ]
  },
  {
   "cell_type": "markdown",
   "metadata": {},
   "source": [
    "### Objetivo\n",
    " \n",
    "Esta atividade tem como objetivo avaliar sua capacidade de aplicar métodos de integração numérica (incluindo quadratura gaussiana e Romberg), analisar erros associados e, principalmente, sua habilidade em contextualizar e interpretar um problema físico real por meio da matemática computacional.\n",
    "\n",
    "Você deverá:\n",
    "\n",
    "- Escolher um problema envolvendo uma integral definida relevante na Física;\n",
    "- Justificar a escolha do problema com uma introdução teórica clara e bem escrita;\n",
    "- Resolver a integral numericamente com ao menos dois métodos (um deles deve ser quadratura gaussiana, o outro deve ser Romberg);\n",
    "- Apresentar os gráficos necessários e uma estimativa de erro;\n",
    "- Fazer uma discussão física e matemática dos resultados."
   ]
  },
  {
   "cell_type": "markdown",
   "metadata": {},
   "source": [
    "### Etapas da atividade\n",
    "\n",
    "a. Escolha e contextualização do problema físico\n",
    "\n",
    "Escolha uma função física integrável definida no intervalo $[a,b]$, com $a \\geq 0$, e que possa representar alguma grandeza relevante na Física (exemplos possíveis incluem):\n",
    "    - Energia média de uma partícula em um sistema estatístico;\n",
    "    - Probabilidade acumulada de uma função de onda;\n",
    "    - Densidade de corrente, fluxo, intensidade de campo;\n",
    "    - Capacidade térmica, densidade de estados, função de resposta espectral.\n",
    "\n",
    "**A função deve ser não trivial (comportamento exponencial, oscilatório, singularidade removível ou decaimento polinomial). Evite funções polinomiais simples ou integrais que possam ser resolvidas facilmente de forma exata.**\n",
    "\n",
    "Você deverá escrever um texto introdutório com:\n",
    "    - O contexto físico do problema;\n",
    "    - A origem da integral escolhida (com unidades e significado físico);\n",
    "    - As possíveis dificuldades numéricas na avaliação dessa integral.\n",
    "\n",
    "b. Cálculo da integral com dois métodos\n",
    "\n",
    "Implemente os dois métodos de integração:\n",
    "    - Quadratura Gaussiana (obrigatória);\n",
    "    - Romberg (obrigatória).\n",
    "\n",
    "c. Estimativa de erro\n",
    "\n",
    "- Para cada método, estime o erro associado (por comparação entre refinamentos sucessivos);\n",
    "- Se possível, compare com o valor teórico (analítico) da integral, caso exista;\n",
    "- Comente qual método se mostrou mais eficiente para o seu caso.\n",
    "\n",
    "d. Discussão dos resultados\n",
    "\n",
    "- Apresente ao menos um gráfico da função integranda e, se aplicável, da função acumulada;\n",
    "- Interprete o resultado final fisicamente;\n",
    "- Comente sobre a estabilidade numérica dos métodos;\n",
    "- Justifique suas escolhas e o comportamento observado.\n",
    "\n",
    "Parte reflexiva\n",
    "\n",
    "- O que dificultaria um modelo de linguagem (como o ChatGPT) de resolver sua atividade diretamente?\n",
    "- Em que pontos a interpretação do contexto físico foi fundamental para resolver o problema?\n",
    "- Houve diferença significativa entre os métodos? Qual se mostrou mais adequado ao seu caso?"
   ]
  },
  {
   "cell_type": "code",
   "execution_count": null,
   "metadata": {
    "vscode": {
     "languageId": "plaintext"
    }
   },
   "outputs": [],
   "source": []
  }
 ],
 "metadata": {
  "language_info": {
   "name": "python"
  }
 },
 "nbformat": 4,
 "nbformat_minor": 2
}
